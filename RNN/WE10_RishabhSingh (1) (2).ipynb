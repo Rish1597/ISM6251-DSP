{
 "cells": [
  {
   "cell_type": "code",
   "execution_count": 1,
   "id": "2b4c9a3e",
   "metadata": {},
   "outputs": [],
   "source": [
    "import numpy as np\n",
    "import pandas as pd\n",
    "from sklearn.preprocessing import StandardScaler\n",
    "from sklearn.model_selection import train_test_split\n",
    "from sklearn.metrics import mean_squared_error\n",
    "from tensorflow.keras.models import Sequential\n",
    "from tensorflow.keras.layers import Dense, SimpleRNN, LSTM, GRU, Conv1D, Flatten\n",
    "from tensorflow.keras.optimizers import Adam\n",
    "import matplotlib.pyplot as plt\n",
    "import tensorflow as tf\n",
    "from tensorflow import keras\n",
    "\n",
    "np.random.seed(1)\n",
    "tf.random.set_seed(1)"
   ]
  },
  {
   "cell_type": "markdown",
   "id": "bed857f6",
   "metadata": {},
   "source": [
    "### The company I have chosen is The Gap Inc. (GPS)"
   ]
  },
  {
   "cell_type": "code",
   "execution_count": 2,
   "id": "0e6a4979",
   "metadata": {},
   "outputs": [],
   "source": [
    "# Reading The GPS Stock data\n",
    "data = pd.read_csv(\"C:/Users/risha/OneDrive/Desktop/BAIS/DSP/GPS.csv\")\n"
   ]
  },
  {
   "cell_type": "code",
   "execution_count": 3,
   "id": "4956c5de",
   "metadata": {},
   "outputs": [
    {
     "data": {
      "text/html": [
       "<div>\n",
       "<style scoped>\n",
       "    .dataframe tbody tr th:only-of-type {\n",
       "        vertical-align: middle;\n",
       "    }\n",
       "\n",
       "    .dataframe tbody tr th {\n",
       "        vertical-align: top;\n",
       "    }\n",
       "\n",
       "    .dataframe thead th {\n",
       "        text-align: right;\n",
       "    }\n",
       "</style>\n",
       "<table border=\"1\" class=\"dataframe\">\n",
       "  <thead>\n",
       "    <tr style=\"text-align: right;\">\n",
       "      <th></th>\n",
       "      <th>Date</th>\n",
       "      <th>Open</th>\n",
       "      <th>High</th>\n",
       "      <th>Low</th>\n",
       "      <th>Close</th>\n",
       "      <th>Adj Close</th>\n",
       "      <th>Volume</th>\n",
       "    </tr>\n",
       "  </thead>\n",
       "  <tbody>\n",
       "    <tr>\n",
       "      <th>0</th>\n",
       "      <td>4/21/2022</td>\n",
       "      <td>14.74</td>\n",
       "      <td>14.83</td>\n",
       "      <td>14.17</td>\n",
       "      <td>14.29</td>\n",
       "      <td>13.410000</td>\n",
       "      <td>6209800</td>\n",
       "    </tr>\n",
       "    <tr>\n",
       "      <th>1</th>\n",
       "      <td>4/22/2022</td>\n",
       "      <td>11.55</td>\n",
       "      <td>11.88</td>\n",
       "      <td>11.07</td>\n",
       "      <td>11.72</td>\n",
       "      <td>10.998265</td>\n",
       "      <td>39124400</td>\n",
       "    </tr>\n",
       "    <tr>\n",
       "      <th>2</th>\n",
       "      <td>4/25/2022</td>\n",
       "      <td>12.00</td>\n",
       "      <td>12.44</td>\n",
       "      <td>11.70</td>\n",
       "      <td>12.44</td>\n",
       "      <td>11.673925</td>\n",
       "      <td>18223600</td>\n",
       "    </tr>\n",
       "    <tr>\n",
       "      <th>3</th>\n",
       "      <td>4/26/2022</td>\n",
       "      <td>12.30</td>\n",
       "      <td>12.57</td>\n",
       "      <td>12.01</td>\n",
       "      <td>12.51</td>\n",
       "      <td>11.739615</td>\n",
       "      <td>10201500</td>\n",
       "    </tr>\n",
       "    <tr>\n",
       "      <th>4</th>\n",
       "      <td>4/27/2022</td>\n",
       "      <td>12.56</td>\n",
       "      <td>12.83</td>\n",
       "      <td>12.41</td>\n",
       "      <td>12.51</td>\n",
       "      <td>11.739615</td>\n",
       "      <td>10634000</td>\n",
       "    </tr>\n",
       "  </tbody>\n",
       "</table>\n",
       "</div>"
      ],
      "text/plain": [
       "        Date   Open   High    Low  Close  Adj Close    Volume\n",
       "0  4/21/2022  14.74  14.83  14.17  14.29  13.410000   6209800\n",
       "1  4/22/2022  11.55  11.88  11.07  11.72  10.998265  39124400\n",
       "2  4/25/2022  12.00  12.44  11.70  12.44  11.673925  18223600\n",
       "3  4/26/2022  12.30  12.57  12.01  12.51  11.739615  10201500\n",
       "4  4/27/2022  12.56  12.83  12.41  12.51  11.739615  10634000"
      ]
     },
     "execution_count": 3,
     "metadata": {},
     "output_type": "execute_result"
    }
   ],
   "source": [
    "# Looking at content using .head() command\n",
    "data.head()"
   ]
  },
  {
   "cell_type": "code",
   "execution_count": 4,
   "id": "3de5c1b9",
   "metadata": {},
   "outputs": [
    {
     "data": {
      "text/html": [
       "<div>\n",
       "<style scoped>\n",
       "    .dataframe tbody tr th:only-of-type {\n",
       "        vertical-align: middle;\n",
       "    }\n",
       "\n",
       "    .dataframe tbody tr th {\n",
       "        vertical-align: top;\n",
       "    }\n",
       "\n",
       "    .dataframe thead th {\n",
       "        text-align: right;\n",
       "    }\n",
       "</style>\n",
       "<table border=\"1\" class=\"dataframe\">\n",
       "  <thead>\n",
       "    <tr style=\"text-align: right;\">\n",
       "      <th></th>\n",
       "      <th>Date</th>\n",
       "      <th>Open</th>\n",
       "      <th>High</th>\n",
       "      <th>Low</th>\n",
       "      <th>Close</th>\n",
       "      <th>Adj Close</th>\n",
       "      <th>Volume</th>\n",
       "    </tr>\n",
       "  </thead>\n",
       "  <tbody>\n",
       "    <tr>\n",
       "      <th>0</th>\n",
       "      <td>4/21/2022</td>\n",
       "      <td>14.74</td>\n",
       "      <td>14.83</td>\n",
       "      <td>14.17</td>\n",
       "      <td>14.29</td>\n",
       "      <td>13.410000</td>\n",
       "      <td>6209800</td>\n",
       "    </tr>\n",
       "    <tr>\n",
       "      <th>1</th>\n",
       "      <td>4/22/2022</td>\n",
       "      <td>11.55</td>\n",
       "      <td>11.88</td>\n",
       "      <td>11.07</td>\n",
       "      <td>11.72</td>\n",
       "      <td>10.998265</td>\n",
       "      <td>39124400</td>\n",
       "    </tr>\n",
       "    <tr>\n",
       "      <th>2</th>\n",
       "      <td>4/25/2022</td>\n",
       "      <td>12.00</td>\n",
       "      <td>12.44</td>\n",
       "      <td>11.70</td>\n",
       "      <td>12.44</td>\n",
       "      <td>11.673925</td>\n",
       "      <td>18223600</td>\n",
       "    </tr>\n",
       "    <tr>\n",
       "      <th>3</th>\n",
       "      <td>4/26/2022</td>\n",
       "      <td>12.30</td>\n",
       "      <td>12.57</td>\n",
       "      <td>12.01</td>\n",
       "      <td>12.51</td>\n",
       "      <td>11.739615</td>\n",
       "      <td>10201500</td>\n",
       "    </tr>\n",
       "    <tr>\n",
       "      <th>4</th>\n",
       "      <td>4/27/2022</td>\n",
       "      <td>12.56</td>\n",
       "      <td>12.83</td>\n",
       "      <td>12.41</td>\n",
       "      <td>12.51</td>\n",
       "      <td>11.739615</td>\n",
       "      <td>10634000</td>\n",
       "    </tr>\n",
       "    <tr>\n",
       "      <th>...</th>\n",
       "      <td>...</td>\n",
       "      <td>...</td>\n",
       "      <td>...</td>\n",
       "      <td>...</td>\n",
       "      <td>...</td>\n",
       "      <td>...</td>\n",
       "      <td>...</td>\n",
       "    </tr>\n",
       "    <tr>\n",
       "      <th>65</th>\n",
       "      <td>7/26/2022</td>\n",
       "      <td>8.59</td>\n",
       "      <td>8.90</td>\n",
       "      <td>8.54</td>\n",
       "      <td>8.71</td>\n",
       "      <td>8.320633</td>\n",
       "      <td>8053500</td>\n",
       "    </tr>\n",
       "    <tr>\n",
       "      <th>66</th>\n",
       "      <td>7/27/2022</td>\n",
       "      <td>8.84</td>\n",
       "      <td>8.96</td>\n",
       "      <td>8.54</td>\n",
       "      <td>8.88</td>\n",
       "      <td>8.483033</td>\n",
       "      <td>5661800</td>\n",
       "    </tr>\n",
       "    <tr>\n",
       "      <th>67</th>\n",
       "      <td>7/28/2022</td>\n",
       "      <td>8.96</td>\n",
       "      <td>9.56</td>\n",
       "      <td>8.88</td>\n",
       "      <td>9.56</td>\n",
       "      <td>9.132635</td>\n",
       "      <td>9781200</td>\n",
       "    </tr>\n",
       "    <tr>\n",
       "      <th>68</th>\n",
       "      <td>7/29/2022</td>\n",
       "      <td>9.56</td>\n",
       "      <td>9.68</td>\n",
       "      <td>9.31</td>\n",
       "      <td>9.62</td>\n",
       "      <td>9.189953</td>\n",
       "      <td>9927500</td>\n",
       "    </tr>\n",
       "    <tr>\n",
       "      <th>69</th>\n",
       "      <td>8/1/2022</td>\n",
       "      <td>9.53</td>\n",
       "      <td>9.87</td>\n",
       "      <td>9.36</td>\n",
       "      <td>9.70</td>\n",
       "      <td>9.266376</td>\n",
       "      <td>7099900</td>\n",
       "    </tr>\n",
       "  </tbody>\n",
       "</table>\n",
       "<p>70 rows × 7 columns</p>\n",
       "</div>"
      ],
      "text/plain": [
       "         Date   Open   High    Low  Close  Adj Close    Volume\n",
       "0   4/21/2022  14.74  14.83  14.17  14.29  13.410000   6209800\n",
       "1   4/22/2022  11.55  11.88  11.07  11.72  10.998265  39124400\n",
       "2   4/25/2022  12.00  12.44  11.70  12.44  11.673925  18223600\n",
       "3   4/26/2022  12.30  12.57  12.01  12.51  11.739615  10201500\n",
       "4   4/27/2022  12.56  12.83  12.41  12.51  11.739615  10634000\n",
       "..        ...    ...    ...    ...    ...        ...       ...\n",
       "65  7/26/2022   8.59   8.90   8.54   8.71   8.320633   8053500\n",
       "66  7/27/2022   8.84   8.96   8.54   8.88   8.483033   5661800\n",
       "67  7/28/2022   8.96   9.56   8.88   9.56   9.132635   9781200\n",
       "68  7/29/2022   9.56   9.68   9.31   9.62   9.189953   9927500\n",
       "69   8/1/2022   9.53   9.87   9.36   9.70   9.266376   7099900\n",
       "\n",
       "[70 rows x 7 columns]"
      ]
     },
     "execution_count": 4,
     "metadata": {},
     "output_type": "execute_result"
    }
   ],
   "source": [
    "# Lets look at some of the datatypes\n",
    "data"
   ]
  },
  {
   "cell_type": "code",
   "execution_count": 5,
   "id": "a4ff388b",
   "metadata": {},
   "outputs": [],
   "source": [
    "# We have to predict the Closing price, so we can drop everything else\n",
    "\n",
    "data = data.drop(['Open', 'High', 'Low', 'Adj Close', 'Volume'], axis=1)"
   ]
  },
  {
   "cell_type": "code",
   "execution_count": 6,
   "id": "4bad9d26",
   "metadata": {},
   "outputs": [
    {
     "data": {
      "text/html": [
       "<div>\n",
       "<style scoped>\n",
       "    .dataframe tbody tr th:only-of-type {\n",
       "        vertical-align: middle;\n",
       "    }\n",
       "\n",
       "    .dataframe tbody tr th {\n",
       "        vertical-align: top;\n",
       "    }\n",
       "\n",
       "    .dataframe thead th {\n",
       "        text-align: right;\n",
       "    }\n",
       "</style>\n",
       "<table border=\"1\" class=\"dataframe\">\n",
       "  <thead>\n",
       "    <tr style=\"text-align: right;\">\n",
       "      <th></th>\n",
       "      <th>Date</th>\n",
       "      <th>Close</th>\n",
       "    </tr>\n",
       "  </thead>\n",
       "  <tbody>\n",
       "    <tr>\n",
       "      <th>0</th>\n",
       "      <td>4/21/2022</td>\n",
       "      <td>14.29</td>\n",
       "    </tr>\n",
       "    <tr>\n",
       "      <th>1</th>\n",
       "      <td>4/22/2022</td>\n",
       "      <td>11.72</td>\n",
       "    </tr>\n",
       "    <tr>\n",
       "      <th>2</th>\n",
       "      <td>4/25/2022</td>\n",
       "      <td>12.44</td>\n",
       "    </tr>\n",
       "    <tr>\n",
       "      <th>3</th>\n",
       "      <td>4/26/2022</td>\n",
       "      <td>12.51</td>\n",
       "    </tr>\n",
       "    <tr>\n",
       "      <th>4</th>\n",
       "      <td>4/27/2022</td>\n",
       "      <td>12.51</td>\n",
       "    </tr>\n",
       "  </tbody>\n",
       "</table>\n",
       "</div>"
      ],
      "text/plain": [
       "        Date  Close\n",
       "0  4/21/2022  14.29\n",
       "1  4/22/2022  11.72\n",
       "2  4/25/2022  12.44\n",
       "3  4/26/2022  12.51\n",
       "4  4/27/2022  12.51"
      ]
     },
     "execution_count": 6,
     "metadata": {},
     "output_type": "execute_result"
    }
   ],
   "source": [
    "data.head()"
   ]
  },
  {
   "cell_type": "code",
   "execution_count": 7,
   "id": "1d77f5c7",
   "metadata": {},
   "outputs": [
    {
     "data": {
      "text/plain": [
       "[<matplotlib.lines.Line2D at 0x28e2f7c8160>]"
      ]
     },
     "execution_count": 7,
     "metadata": {},
     "output_type": "execute_result"
    },
    {
     "data": {
      "image/png": "[encoded data removed]",
      "text/plain": [
       "<Figure size 640x480 with 1 Axes>"
      ]
     },
     "metadata": {},
     "output_type": "display_data"
    }
   ],
   "source": [
    "# We do not see any evidence of outliers or missing values, so we are good to go\n",
    "\n",
    "plt.plot(data['Close'])"
   ]
  },
  {
   "cell_type": "markdown",
   "id": "210c1d4f",
   "metadata": {},
   "source": [
    "## Reshape for standardizing data"
   ]
  },
  {
   "cell_type": "code",
   "execution_count": 8,
   "id": "f4410d5c",
   "metadata": {},
   "outputs": [
    {
     "data": {
      "text/plain": [
       "(70, 1)"
      ]
     },
     "execution_count": 8,
     "metadata": {},
     "output_type": "execute_result"
    }
   ],
   "source": [
    "# Extract the 'Close' column from the DataFrame\n",
    "close = np.array(data['Close']).reshape(-1, 1)\n",
    "\n",
    "close.shape"
   ]
  },
  {
   "cell_type": "markdown",
   "id": "f42b200d",
   "metadata": {},
   "source": [
    "## Standardize the values"
   ]
  },
  {
   "cell_type": "code",
   "execution_count": 9,
   "id": "02f535d0",
   "metadata": {},
   "outputs": [],
   "source": [
    "# Instantiate the StandardScaler\n",
    "scaler = StandardScaler()\n",
    "\n",
    "# Fit and transform the data\n",
    "close_scaled = scaler.fit_transform(close)"
   ]
  },
  {
   "cell_type": "markdown",
   "id": "9101a762",
   "metadata": {},
   "source": [
    "## Split the data into Train and Test"
   ]
  },
  {
   "cell_type": "markdown",
   "id": "870a2125",
   "metadata": {},
   "source": [
    "### Since, the data is chronological and we have to maintain the order "
   ]
  },
  {
   "cell_type": "code",
   "execution_count": 10,
   "id": "2a925fc7",
   "metadata": {},
   "outputs": [],
   "source": [
    "# Splitting based on order\n",
    "\n",
    "split_point = int(len(close_scaled) * 0.7)\n",
    "train, test = close_scaled[:split_point], close_scaled[split_point:]\n"
   ]
  },
  {
   "cell_type": "markdown",
   "id": "174fa55a",
   "metadata": {},
   "source": [
    "### Since we are predicting 10th day price based on past 9 days, I have used 9:1 ratio for train and test\n"
   ]
  },
  {
   "cell_type": "code",
   "execution_count": 11,
   "id": "0baec56a",
   "metadata": {},
   "outputs": [],
   "source": [
    "num_cols = 9\n",
    "\n",
    "\n",
    "X_train = []\n",
    "y_train = []\n",
    "for i in range(len(train) - num_cols):\n",
    "    X_train.append(train[i:i+num_cols])\n",
    "    y_train.append(train[i+num_cols])\n",
    "\n",
    "X_train, y_train = np.array(X_train), np.array(y_train)\n",
    "\n",
    "X_test = []\n",
    "y_test = []\n",
    "for i in range(len(test) - num_cols):\n",
    "    X_test.append(test[i:i+num_cols])\n",
    "    y_test.append(test[i+num_cols])\n",
    "\n",
    "X_test, y_test = np.array(X_test), np.array(y_test)\n"
   ]
  },
  {
   "cell_type": "code",
   "execution_count": 12,
   "id": "f9cd06ea",
   "metadata": {
    "scrolled": true
   },
   "outputs": [
    {
     "data": {
      "text/plain": [
       "array([[0.83977885],\n",
       "       [1.28376138],\n",
       "       [1.32692634],\n",
       "       [1.32692634],\n",
       "       [1.54275118],\n",
       "       [1.27142853],\n",
       "       [1.62908112],\n",
       "       [1.67224609],\n",
       "       [1.94973516]])"
      ]
     },
     "execution_count": 12,
     "metadata": {},
     "output_type": "execute_result"
    }
   ],
   "source": [
    "X_train[1]"
   ]
  },
  {
   "cell_type": "code",
   "execution_count": 13,
   "id": "f066cba1",
   "metadata": {},
   "outputs": [
    {
     "data": {
      "text/plain": [
       "array([[-1.01014834],\n",
       "       [-1.1026447 ],\n",
       "       [-0.91765198],\n",
       "       [-0.8991527 ],\n",
       "       [-0.98548264],\n",
       "       [-1.25680529],\n",
       "       [-1.26913814],\n",
       "       [-1.31230311],\n",
       "       [-1.25063887]])"
      ]
     },
     "execution_count": 13,
     "metadata": {},
     "output_type": "execute_result"
    }
   ],
   "source": [
    "X_test[1]"
   ]
  },
  {
   "cell_type": "code",
   "execution_count": 14,
   "id": "ba0619db",
   "metadata": {},
   "outputs": [
    {
     "data": {
      "text/plain": [
       "array([1.54275118])"
      ]
     },
     "execution_count": 14,
     "metadata": {},
     "output_type": "execute_result"
    }
   ],
   "source": [
    "y_train[1]"
   ]
  },
  {
   "cell_type": "code",
   "execution_count": 15,
   "id": "2b0d0f6c",
   "metadata": {
    "scrolled": false
   },
   "outputs": [
    {
     "data": {
      "text/plain": [
       "array([-0.9238184])"
      ]
     },
     "execution_count": 15,
     "metadata": {},
     "output_type": "execute_result"
    }
   ],
   "source": [
    "y_test[1]"
   ]
  },
  {
   "cell_type": "markdown",
   "id": "652a44c4",
   "metadata": {},
   "source": [
    "## Applying Models"
   ]
  },
  {
   "cell_type": "markdown",
   "id": "61828b27",
   "metadata": {},
   "source": [
    "## Simple RNN"
   ]
  },
  {
   "cell_type": "code",
   "execution_count": 16,
   "id": "88d6ef71",
   "metadata": {},
   "outputs": [],
   "source": [
    "rnn_model = keras.models.Sequential([\n",
    "    keras.layers.SimpleRNN(32, activation='relu', input_shape=[9, 1]),\n",
    "    keras.layers.Dense(1, activation=None)\n",
    "])"
   ]
  },
  {
   "cell_type": "code",
   "execution_count": 17,
   "id": "c7c7ac22",
   "metadata": {},
   "outputs": [],
   "source": [
    "np.random.seed(42)\n",
    "tf.random.set_seed(42)\n",
    "\n",
    "rnn_model.compile(loss=\"mse\", optimizer='Adam')"
   ]
  },
  {
   "cell_type": "code",
   "execution_count": 18,
   "id": "67235fef",
   "metadata": {
    "scrolled": true
   },
   "outputs": [
    {
     "name": "stdout",
     "output_type": "stream",
     "text": [
      "Epoch 1/50\n",
      "2/2 [==============================] - 3s 24ms/step - loss: 0.3460\n",
      "Epoch 2/50\n",
      "2/2 [==============================] - 0s 0s/step - loss: 0.3043\n",
      "Epoch 3/50\n",
      "2/2 [==============================] - 0s 4ms/step - loss: 0.2720\n",
      "Epoch 4/50\n",
      "2/2 [==============================] - 0s 0s/step - loss: 0.2439\n",
      "Epoch 5/50\n",
      "2/2 [==============================] - 0s 7ms/step - loss: 0.2308\n",
      "Epoch 6/50\n",
      "2/2 [==============================] - 0s 6ms/step - loss: 0.2196\n",
      "Epoch 7/50\n",
      "2/2 [==============================] - 0s 16ms/step - loss: 0.2066\n",
      "Epoch 8/50\n",
      "2/2 [==============================] - 0s 904us/step - loss: 0.1968\n",
      "Epoch 9/50\n",
      "2/2 [==============================] - 0s 7ms/step - loss: 0.1838\n",
      "Epoch 10/50\n",
      "2/2 [==============================] - 0s 2ms/step - loss: 0.1747\n",
      "Epoch 11/50\n",
      "2/2 [==============================] - 0s 6ms/step - loss: 0.1679\n",
      "Epoch 12/50\n",
      "2/2 [==============================] - 0s 7ms/step - loss: 0.1595\n",
      "Epoch 13/50\n",
      "2/2 [==============================] - 0s 0s/step - loss: 0.1521\n",
      "Epoch 14/50\n",
      "2/2 [==============================] - 0s 6ms/step - loss: 0.1453\n",
      "Epoch 15/50\n",
      "2/2 [==============================] - 0s 5ms/step - loss: 0.1387\n",
      "Epoch 16/50\n",
      "2/2 [==============================] - 0s 8ms/step - loss: 0.1326\n",
      "Epoch 17/50\n",
      "2/2 [==============================] - 0s 11ms/step - loss: 0.1261\n",
      "Epoch 18/50\n",
      "2/2 [==============================] - 0s 5ms/step - loss: 0.1218\n",
      "Epoch 19/50\n",
      "2/2 [==============================] - 0s 996us/step - loss: 0.1167\n",
      "Epoch 20/50\n",
      "2/2 [==============================] - 0s 0s/step - loss: 0.1121\n",
      "Epoch 21/50\n",
      "2/2 [==============================] - 0s 5ms/step - loss: 0.1085\n",
      "Epoch 22/50\n",
      "2/2 [==============================] - 0s 0s/step - loss: 0.1051\n",
      "Epoch 23/50\n",
      "2/2 [==============================] - 0s 9ms/step - loss: 0.1028\n",
      "Epoch 24/50\n",
      "2/2 [==============================] - 0s 4ms/step - loss: 0.1009\n",
      "Epoch 25/50\n",
      "2/2 [==============================] - 0s 0s/step - loss: 0.0992\n",
      "Epoch 26/50\n",
      "2/2 [==============================] - 0s 0s/step - loss: 0.0976\n",
      "Epoch 27/50\n",
      "2/2 [==============================] - 0s 5ms/step - loss: 0.0945\n",
      "Epoch 28/50\n",
      "2/2 [==============================] - 0s 4ms/step - loss: 0.0921\n",
      "Epoch 29/50\n",
      "2/2 [==============================] - 0s 3ms/step - loss: 0.0900\n",
      "Epoch 30/50\n",
      "2/2 [==============================] - 0s 13ms/step - loss: 0.0904\n",
      "Epoch 31/50\n",
      "2/2 [==============================] - 0s 8ms/step - loss: 0.0894\n",
      "Epoch 32/50\n",
      "2/2 [==============================] - 0s 680us/step - loss: 0.0875\n",
      "Epoch 33/50\n",
      "2/2 [==============================] - 0s 2ms/step - loss: 0.0847\n",
      "Epoch 34/50\n",
      "2/2 [==============================] - 0s 0s/step - loss: 0.0805\n",
      "Epoch 35/50\n",
      "2/2 [==============================] - 0s 10ms/step - loss: 0.0797\n",
      "Epoch 36/50\n",
      "2/2 [==============================] - 0s 12ms/step - loss: 0.0777\n",
      "Epoch 37/50\n",
      "2/2 [==============================] - 0s 7ms/step - loss: 0.0763\n",
      "Epoch 38/50\n",
      "2/2 [==============================] - 0s 9ms/step - loss: 0.0748\n",
      "Epoch 39/50\n",
      "2/2 [==============================] - 0s 8ms/step - loss: 0.0733\n",
      "Epoch 40/50\n",
      "2/2 [==============================] - 0s 9ms/step - loss: 0.0727\n",
      "Epoch 41/50\n",
      "2/2 [==============================] - 0s 9ms/step - loss: 0.0723\n",
      "Epoch 42/50\n",
      "2/2 [==============================] - 0s 4ms/step - loss: 0.0714\n",
      "Epoch 43/50\n",
      "2/2 [==============================] - 0s 8ms/step - loss: 0.0698\n",
      "Epoch 44/50\n",
      "2/2 [==============================] - 0s 8ms/step - loss: 0.0691\n",
      "Epoch 45/50\n",
      "2/2 [==============================] - 0s 0s/step - loss: 0.0682\n",
      "Epoch 46/50\n",
      "2/2 [==============================] - 0s 16ms/step - loss: 0.0675\n",
      "Epoch 47/50\n",
      "2/2 [==============================] - 0s 16ms/step - loss: 0.0665\n",
      "Epoch 48/50\n",
      "2/2 [==============================] - 0s 15ms/step - loss: 0.0658\n",
      "Epoch 49/50\n",
      "2/2 [==============================] - 0s 0s/step - loss: 0.0658\n",
      "Epoch 50/50\n",
      "2/2 [==============================] - 0s 0s/step - loss: 0.0627\n"
     ]
    }
   ],
   "source": [
    "# Train the model\n",
    "history = rnn_model.fit(X_train, y_train, epochs=50)"
   ]
  },
  {
   "cell_type": "markdown",
   "id": "2a3b0d6f",
   "metadata": {},
   "source": [
    "## Predictions"
   ]
  },
  {
   "cell_type": "code",
   "execution_count": 19,
   "id": "8ba69e05",
   "metadata": {},
   "outputs": [
    {
     "name": "stdout",
     "output_type": "stream",
     "text": [
      "1/1 [==============================] - 0s 476ms/step\n"
     ]
    }
   ],
   "source": [
    "#Predict:\n",
    "y_pred = rnn_model.predict(X_test)"
   ]
  },
  {
   "cell_type": "code",
   "execution_count": 20,
   "id": "1bfc918e",
   "metadata": {},
   "outputs": [],
   "source": [
    "#Remember, these are standardized values. \n",
    "\n",
    "comparison = pd.DataFrame()\n",
    "\n",
    "comparison['actual'] = scaler.inverse_transform(y_test.reshape(-1, 1)).flatten()\n",
    "comparison['predicted'] = scaler.inverse_transform(y_pred).flatten()"
   ]
  },
  {
   "cell_type": "code",
   "execution_count": 21,
   "id": "e95fd34e",
   "metadata": {},
   "outputs": [
    {
     "data": {
      "text/html": [
       "<div>\n",
       "<style scoped>\n",
       "    .dataframe tbody tr th:only-of-type {\n",
       "        vertical-align: middle;\n",
       "    }\n",
       "\n",
       "    .dataframe tbody tr th {\n",
       "        vertical-align: top;\n",
       "    }\n",
       "\n",
       "    .dataframe thead th {\n",
       "        text-align: right;\n",
       "    }\n",
       "</style>\n",
       "<table border=\"1\" class=\"dataframe\">\n",
       "  <thead>\n",
       "    <tr style=\"text-align: right;\">\n",
       "      <th></th>\n",
       "      <th>actual</th>\n",
       "      <th>predicted</th>\n",
       "    </tr>\n",
       "  </thead>\n",
       "  <tbody>\n",
       "    <tr>\n",
       "      <th>0</th>\n",
       "      <td>8.33</td>\n",
       "      <td>8.344680</td>\n",
       "    </tr>\n",
       "    <tr>\n",
       "      <th>1</th>\n",
       "      <td>8.86</td>\n",
       "      <td>8.340562</td>\n",
       "    </tr>\n",
       "    <tr>\n",
       "      <th>2</th>\n",
       "      <td>9.35</td>\n",
       "      <td>8.603072</td>\n",
       "    </tr>\n",
       "    <tr>\n",
       "      <th>3</th>\n",
       "      <td>9.49</td>\n",
       "      <td>9.027247</td>\n",
       "    </tr>\n",
       "    <tr>\n",
       "      <th>4</th>\n",
       "      <td>9.37</td>\n",
       "      <td>9.272355</td>\n",
       "    </tr>\n",
       "    <tr>\n",
       "      <th>5</th>\n",
       "      <td>9.42</td>\n",
       "      <td>9.268348</td>\n",
       "    </tr>\n",
       "    <tr>\n",
       "      <th>6</th>\n",
       "      <td>9.21</td>\n",
       "      <td>9.260417</td>\n",
       "    </tr>\n",
       "    <tr>\n",
       "      <th>7</th>\n",
       "      <td>8.71</td>\n",
       "      <td>9.226039</td>\n",
       "    </tr>\n",
       "    <tr>\n",
       "      <th>8</th>\n",
       "      <td>8.88</td>\n",
       "      <td>8.955213</td>\n",
       "    </tr>\n",
       "    <tr>\n",
       "      <th>9</th>\n",
       "      <td>9.56</td>\n",
       "      <td>8.817486</td>\n",
       "    </tr>\n",
       "    <tr>\n",
       "      <th>10</th>\n",
       "      <td>9.62</td>\n",
       "      <td>9.169127</td>\n",
       "    </tr>\n",
       "    <tr>\n",
       "      <th>11</th>\n",
       "      <td>9.70</td>\n",
       "      <td>9.426671</td>\n",
       "    </tr>\n",
       "  </tbody>\n",
       "</table>\n",
       "</div>"
      ],
      "text/plain": [
       "    actual  predicted\n",
       "0     8.33   8.344680\n",
       "1     8.86   8.340562\n",
       "2     9.35   8.603072\n",
       "3     9.49   9.027247\n",
       "4     9.37   9.272355\n",
       "5     9.42   9.268348\n",
       "6     9.21   9.260417\n",
       "7     8.71   9.226039\n",
       "8     8.88   8.955213\n",
       "9     9.56   8.817486\n",
       "10    9.62   9.169127\n",
       "11    9.70   9.426671"
      ]
     },
     "execution_count": 21,
     "metadata": {},
     "output_type": "execute_result"
    }
   ],
   "source": [
    "comparison"
   ]
  },
  {
   "cell_type": "code",
   "execution_count": 22,
   "id": "25c1f986",
   "metadata": {},
   "outputs": [
    {
     "data": {
      "text/plain": [
       "0.1815352900854181"
      ]
     },
     "execution_count": 22,
     "metadata": {},
     "output_type": "execute_result"
    }
   ],
   "source": [
    "mean_squared_error(comparison['actual'], comparison['predicted'])"
   ]
  },
  {
   "cell_type": "code",
   "execution_count": 23,
   "id": "39434376",
   "metadata": {},
   "outputs": [
    {
     "data": {
      "image/png": "[encoded data removed]",
      "text/plain": [
       "<Figure size 640x480 with 1 Axes>"
      ]
     },
     "metadata": {},
     "output_type": "display_data"
    }
   ],
   "source": [
    "plt.plot(comparison['actual'], label = 'actual')\n",
    "plt.plot(comparison['predicted'], label = 'predicted')\n",
    "\n",
    "plt.legend()\n",
    "\n",
    "plt.show()"
   ]
  },
  {
   "cell_type": "markdown",
   "id": "bc35ae9c",
   "metadata": {},
   "source": [
    "## LSTM with more layers"
   ]
  },
  {
   "cell_type": "code",
   "execution_count": 24,
   "id": "7f6d067e",
   "metadata": {},
   "outputs": [],
   "source": [
    "lstm_model = keras.models.Sequential([\n",
    "    keras.layers.LSTM(32, activation='tanh', return_sequences=True, input_shape=[9, 1]),\n",
    "    keras.layers.LSTM(32, activation='tanh', return_sequences=False),\n",
    "    keras.layers.Dense(1, activation=None)\n",
    "])"
   ]
  },
  {
   "cell_type": "code",
   "execution_count": 25,
   "id": "3ec118fd",
   "metadata": {},
   "outputs": [
    {
     "name": "stdout",
     "output_type": "stream",
     "text": [
      "Epoch 1/50\n",
      "2/2 [==============================] - 8s 18ms/step - loss: 0.7161\n",
      "Epoch 2/50\n",
      "2/2 [==============================] - 0s 13ms/step - loss: 0.6218\n",
      "Epoch 3/50\n",
      "2/2 [==============================] - 0s 16ms/step - loss: 0.5432\n",
      "Epoch 4/50\n",
      "2/2 [==============================] - 0s 18ms/step - loss: 0.4699\n",
      "Epoch 5/50\n",
      "2/2 [==============================] - 0s 17ms/step - loss: 0.4133\n",
      "Epoch 6/50\n",
      "2/2 [==============================] - 0s 17ms/step - loss: 0.3626\n",
      "Epoch 7/50\n",
      "2/2 [==============================] - 0s 17ms/step - loss: 0.3224\n",
      "Epoch 8/50\n",
      "2/2 [==============================] - 0s 19ms/step - loss: 0.2890\n",
      "Epoch 9/50\n",
      "2/2 [==============================] - 0s 17ms/step - loss: 0.2718\n",
      "Epoch 10/50\n",
      "2/2 [==============================] - 0s 17ms/step - loss: 0.2607\n",
      "Epoch 11/50\n",
      "2/2 [==============================] - 0s 19ms/step - loss: 0.2595\n",
      "Epoch 12/50\n",
      "2/2 [==============================] - 0s 18ms/step - loss: 0.2543\n",
      "Epoch 13/50\n",
      "2/2 [==============================] - 0s 19ms/step - loss: 0.2404\n",
      "Epoch 14/50\n",
      "2/2 [==============================] - 0s 17ms/step - loss: 0.2234\n",
      "Epoch 15/50\n",
      "2/2 [==============================] - 0s 16ms/step - loss: 0.2053\n",
      "Epoch 16/50\n",
      "2/2 [==============================] - 0s 17ms/step - loss: 0.1931\n",
      "Epoch 17/50\n",
      "2/2 [==============================] - 0s 18ms/step - loss: 0.1870\n",
      "Epoch 18/50\n",
      "2/2 [==============================] - 0s 17ms/step - loss: 0.1848\n",
      "Epoch 19/50\n",
      "2/2 [==============================] - 0s 18ms/step - loss: 0.1839\n",
      "Epoch 20/50\n",
      "2/2 [==============================] - 0s 18ms/step - loss: 0.1826\n",
      "Epoch 21/50\n",
      "2/2 [==============================] - 0s 17ms/step - loss: 0.1821\n",
      "Epoch 22/50\n",
      "2/2 [==============================] - 0s 17ms/step - loss: 0.1797\n",
      "Epoch 23/50\n",
      "2/2 [==============================] - 0s 17ms/step - loss: 0.1784\n",
      "Epoch 24/50\n",
      "2/2 [==============================] - 0s 19ms/step - loss: 0.1763\n",
      "Epoch 25/50\n",
      "2/2 [==============================] - 0s 19ms/step - loss: 0.1756\n",
      "Epoch 26/50\n",
      "2/2 [==============================] - 0s 18ms/step - loss: 0.1749\n",
      "Epoch 27/50\n",
      "2/2 [==============================] - 0s 17ms/step - loss: 0.1740\n",
      "Epoch 28/50\n",
      "2/2 [==============================] - 0s 17ms/step - loss: 0.1733\n",
      "Epoch 29/50\n",
      "2/2 [==============================] - 0s 18ms/step - loss: 0.1719\n",
      "Epoch 30/50\n",
      "2/2 [==============================] - 0s 20ms/step - loss: 0.1721\n",
      "Epoch 31/50\n",
      "2/2 [==============================] - 0s 18ms/step - loss: 0.1716\n",
      "Epoch 32/50\n",
      "2/2 [==============================] - 0s 17ms/step - loss: 0.1709\n",
      "Epoch 33/50\n",
      "2/2 [==============================] - 0s 18ms/step - loss: 0.1707\n",
      "Epoch 34/50\n",
      "2/2 [==============================] - 0s 17ms/step - loss: 0.1693\n",
      "Epoch 35/50\n",
      "2/2 [==============================] - 0s 19ms/step - loss: 0.1706\n",
      "Epoch 36/50\n",
      "2/2 [==============================] - 0s 19ms/step - loss: 0.1698\n",
      "Epoch 37/50\n",
      "2/2 [==============================] - 0s 16ms/step - loss: 0.1693\n",
      "Epoch 38/50\n",
      "2/2 [==============================] - 0s 21ms/step - loss: 0.1689\n",
      "Epoch 39/50\n",
      "2/2 [==============================] - 0s 18ms/step - loss: 0.1684\n",
      "Epoch 40/50\n",
      "2/2 [==============================] - 0s 16ms/step - loss: 0.1685\n",
      "Epoch 41/50\n",
      "2/2 [==============================] - 0s 8ms/step - loss: 0.1683\n",
      "Epoch 42/50\n",
      "2/2 [==============================] - 0s 31ms/step - loss: 0.1683\n",
      "Epoch 43/50\n",
      "2/2 [==============================] - 0s 14ms/step - loss: 0.1680\n",
      "Epoch 44/50\n",
      "2/2 [==============================] - 0s 32ms/step - loss: 0.1678\n",
      "Epoch 45/50\n",
      "2/2 [==============================] - 0s 19ms/step - loss: 0.1678\n",
      "Epoch 46/50\n",
      "2/2 [==============================] - 0s 18ms/step - loss: 0.1674\n",
      "Epoch 47/50\n",
      "2/2 [==============================] - 0s 19ms/step - loss: 0.1668\n",
      "Epoch 48/50\n",
      "2/2 [==============================] - 0s 19ms/step - loss: 0.1667\n",
      "Epoch 49/50\n",
      "2/2 [==============================] - 0s 17ms/step - loss: 0.1672\n",
      "Epoch 50/50\n",
      "2/2 [==============================] - 0s 19ms/step - loss: 0.1660\n"
     ]
    }
   ],
   "source": [
    "np.random.seed(42)\n",
    "tf.random.set_seed(42)\n",
    "\n",
    "lstm_model.compile(loss=\"mse\", optimizer='Adam')\n",
    "# Train the model\n",
    "history = lstm_model.fit(X_train, y_train, epochs=50)"
   ]
  },
  {
   "cell_type": "code",
   "execution_count": 26,
   "id": "6d5a5dff",
   "metadata": {},
   "outputs": [
    {
     "name": "stdout",
     "output_type": "stream",
     "text": [
      "1/1 [==============================] - 2s 2s/step\n"
     ]
    }
   ],
   "source": [
    "#Predict:\n",
    "y_pred = lstm_model.predict(X_test)"
   ]
  },
  {
   "cell_type": "code",
   "execution_count": 27,
   "id": "754ae0db",
   "metadata": {},
   "outputs": [],
   "source": [
    "#Remember, these are standardized values. \n",
    "\n",
    "comparison = pd.DataFrame()\n",
    "\n",
    "comparison['actual'] = scaler.inverse_transform(y_test.reshape(-1, 1)).flatten()\n",
    "comparison['predicted'] = scaler.inverse_transform(y_pred).flatten()"
   ]
  },
  {
   "cell_type": "code",
   "execution_count": 28,
   "id": "4e5391fe",
   "metadata": {},
   "outputs": [
    {
     "data": {
      "text/html": [
       "<div>\n",
       "<style scoped>\n",
       "    .dataframe tbody tr th:only-of-type {\n",
       "        vertical-align: middle;\n",
       "    }\n",
       "\n",
       "    .dataframe tbody tr th {\n",
       "        vertical-align: top;\n",
       "    }\n",
       "\n",
       "    .dataframe thead th {\n",
       "        text-align: right;\n",
       "    }\n",
       "</style>\n",
       "<table border=\"1\" class=\"dataframe\">\n",
       "  <thead>\n",
       "    <tr style=\"text-align: right;\">\n",
       "      <th></th>\n",
       "      <th>actual</th>\n",
       "      <th>predicted</th>\n",
       "    </tr>\n",
       "  </thead>\n",
       "  <tbody>\n",
       "    <tr>\n",
       "      <th>0</th>\n",
       "      <td>8.33</td>\n",
       "      <td>8.711422</td>\n",
       "    </tr>\n",
       "    <tr>\n",
       "      <th>1</th>\n",
       "      <td>8.86</td>\n",
       "      <td>8.699738</td>\n",
       "    </tr>\n",
       "    <tr>\n",
       "      <th>2</th>\n",
       "      <td>9.35</td>\n",
       "      <td>8.689247</td>\n",
       "    </tr>\n",
       "    <tr>\n",
       "      <th>3</th>\n",
       "      <td>9.49</td>\n",
       "      <td>8.703090</td>\n",
       "    </tr>\n",
       "    <tr>\n",
       "      <th>4</th>\n",
       "      <td>9.37</td>\n",
       "      <td>8.724713</td>\n",
       "    </tr>\n",
       "    <tr>\n",
       "      <th>5</th>\n",
       "      <td>9.42</td>\n",
       "      <td>8.755192</td>\n",
       "    </tr>\n",
       "    <tr>\n",
       "      <th>6</th>\n",
       "      <td>9.21</td>\n",
       "      <td>8.796352</td>\n",
       "    </tr>\n",
       "    <tr>\n",
       "      <th>7</th>\n",
       "      <td>8.71</td>\n",
       "      <td>8.850218</td>\n",
       "    </tr>\n",
       "    <tr>\n",
       "      <th>8</th>\n",
       "      <td>8.88</td>\n",
       "      <td>8.888004</td>\n",
       "    </tr>\n",
       "    <tr>\n",
       "      <th>9</th>\n",
       "      <td>9.56</td>\n",
       "      <td>8.917963</td>\n",
       "    </tr>\n",
       "    <tr>\n",
       "      <th>10</th>\n",
       "      <td>9.62</td>\n",
       "      <td>8.954664</td>\n",
       "    </tr>\n",
       "    <tr>\n",
       "      <th>11</th>\n",
       "      <td>9.70</td>\n",
       "      <td>8.980538</td>\n",
       "    </tr>\n",
       "  </tbody>\n",
       "</table>\n",
       "</div>"
      ],
      "text/plain": [
       "    actual  predicted\n",
       "0     8.33   8.711422\n",
       "1     8.86   8.699738\n",
       "2     9.35   8.689247\n",
       "3     9.49   8.703090\n",
       "4     9.37   8.724713\n",
       "5     9.42   8.755192\n",
       "6     9.21   8.796352\n",
       "7     8.71   8.850218\n",
       "8     8.88   8.888004\n",
       "9     9.56   8.917963\n",
       "10    9.62   8.954664\n",
       "11    9.70   8.980538"
      ]
     },
     "execution_count": 28,
     "metadata": {},
     "output_type": "execute_result"
    }
   ],
   "source": [
    "comparison"
   ]
  },
  {
   "cell_type": "code",
   "execution_count": 29,
   "id": "fa2a5c4c",
   "metadata": {},
   "outputs": [
    {
     "data": {
      "text/plain": [
       "0.3040576171517233"
      ]
     },
     "execution_count": 29,
     "metadata": {},
     "output_type": "execute_result"
    }
   ],
   "source": [
    "mean_squared_error(comparison['actual'], comparison['predicted'])"
   ]
  },
  {
   "cell_type": "code",
   "execution_count": 30,
   "id": "1dad9711",
   "metadata": {},
   "outputs": [
    {
     "data": {
      "image/png": "[encoded data removed]",
      "text/plain": [
       "<Figure size 640x480 with 1 Axes>"
      ]
     },
     "metadata": {},
     "output_type": "display_data"
    }
   ],
   "source": [
    "plt.plot(comparison['actual'], label = 'actual')\n",
    "plt.plot(comparison['predicted'], label = 'predicted')\n",
    "\n",
    "plt.legend()\n",
    "\n",
    "plt.show()"
   ]
  },
  {
   "cell_type": "markdown",
   "id": "3515ea84",
   "metadata": {},
   "source": [
    "## GRU (With more layers)"
   ]
  },
  {
   "cell_type": "code",
   "execution_count": 31,
   "id": "2cfba0b5",
   "metadata": {},
   "outputs": [],
   "source": [
    "gru_model = keras.models.Sequential([\n",
    "    keras.layers.GRU(32, activation='relu', return_sequences=True, input_shape=[9, 1]),\n",
    "    keras.layers.GRU(32, activation='relu', return_sequences=False),\n",
    "    keras.layers.Dense(1, activation=None)\n",
    "])"
   ]
  },
  {
   "cell_type": "code",
   "execution_count": 32,
   "id": "934212df",
   "metadata": {},
   "outputs": [
    {
     "name": "stdout",
     "output_type": "stream",
     "text": [
      "Epoch 1/50\n",
      "2/2 [==============================] - 7s 17ms/step - loss: 0.6998\n",
      "Epoch 2/50\n",
      "2/2 [==============================] - 0s 18ms/step - loss: 0.6547\n",
      "Epoch 3/50\n",
      "2/2 [==============================] - 0s 21ms/step - loss: 0.6147\n",
      "Epoch 4/50\n",
      "2/2 [==============================] - 0s 18ms/step - loss: 0.5760\n",
      "Epoch 5/50\n",
      "2/2 [==============================] - 0s 17ms/step - loss: 0.5432\n",
      "Epoch 6/50\n",
      "2/2 [==============================] - 0s 18ms/step - loss: 0.5115\n",
      "Epoch 7/50\n",
      "2/2 [==============================] - 0s 20ms/step - loss: 0.4803\n",
      "Epoch 8/50\n",
      "2/2 [==============================] - 0s 17ms/step - loss: 0.4454\n",
      "Epoch 9/50\n",
      "2/2 [==============================] - 0s 20ms/step - loss: 0.4156\n",
      "Epoch 10/50\n",
      "2/2 [==============================] - 0s 21ms/step - loss: 0.3839\n",
      "Epoch 11/50\n",
      "2/2 [==============================] - 0s 20ms/step - loss: 0.3528\n",
      "Epoch 12/50\n",
      "2/2 [==============================] - 0s 19ms/step - loss: 0.3238\n",
      "Epoch 13/50\n",
      "2/2 [==============================] - 0s 20ms/step - loss: 0.2928\n",
      "Epoch 14/50\n",
      "2/2 [==============================] - 0s 19ms/step - loss: 0.2652\n",
      "Epoch 15/50\n",
      "2/2 [==============================] - 0s 20ms/step - loss: 0.2413\n",
      "Epoch 16/50\n",
      "2/2 [==============================] - 0s 18ms/step - loss: 0.2176\n",
      "Epoch 17/50\n",
      "2/2 [==============================] - 0s 20ms/step - loss: 0.1952\n",
      "Epoch 18/50\n",
      "2/2 [==============================] - 0s 21ms/step - loss: 0.1797\n",
      "Epoch 19/50\n",
      "2/2 [==============================] - 0s 19ms/step - loss: 0.1650\n",
      "Epoch 20/50\n",
      "2/2 [==============================] - 0s 19ms/step - loss: 0.1541\n",
      "Epoch 21/50\n",
      "2/2 [==============================] - 0s 16ms/step - loss: 0.1490\n",
      "Epoch 22/50\n",
      "2/2 [==============================] - 0s 19ms/step - loss: 0.1437\n",
      "Epoch 23/50\n",
      "2/2 [==============================] - 0s 22ms/step - loss: 0.1405\n",
      "Epoch 24/50\n",
      "2/2 [==============================] - 0s 17ms/step - loss: 0.1393\n",
      "Epoch 25/50\n",
      "2/2 [==============================] - 0s 21ms/step - loss: 0.1403\n",
      "Epoch 26/50\n",
      "2/2 [==============================] - 0s 21ms/step - loss: 0.1409\n",
      "Epoch 27/50\n",
      "2/2 [==============================] - 0s 21ms/step - loss: 0.1399\n",
      "Epoch 28/50\n",
      "2/2 [==============================] - 0s 18ms/step - loss: 0.1379\n",
      "Epoch 29/50\n",
      "2/2 [==============================] - 0s 22ms/step - loss: 0.1354\n",
      "Epoch 30/50\n",
      "2/2 [==============================] - 0s 21ms/step - loss: 0.1328\n",
      "Epoch 31/50\n",
      "2/2 [==============================] - 0s 19ms/step - loss: 0.1302\n",
      "Epoch 32/50\n",
      "2/2 [==============================] - 0s 22ms/step - loss: 0.1260\n",
      "Epoch 33/50\n",
      "2/2 [==============================] - 0s 19ms/step - loss: 0.1275\n",
      "Epoch 34/50\n",
      "2/2 [==============================] - 0s 22ms/step - loss: 0.1269\n",
      "Epoch 35/50\n",
      "2/2 [==============================] - 0s 22ms/step - loss: 0.1282\n",
      "Epoch 36/50\n",
      "2/2 [==============================] - 0s 20ms/step - loss: 0.1266\n",
      "Epoch 37/50\n",
      "2/2 [==============================] - 0s 18ms/step - loss: 0.1239\n",
      "Epoch 38/50\n",
      "2/2 [==============================] - 0s 20ms/step - loss: 0.1205\n",
      "Epoch 39/50\n",
      "2/2 [==============================] - 0s 21ms/step - loss: 0.1194\n",
      "Epoch 40/50\n",
      "2/2 [==============================] - 0s 20ms/step - loss: 0.1188\n",
      "Epoch 41/50\n",
      "2/2 [==============================] - 0s 20ms/step - loss: 0.1178\n",
      "Epoch 42/50\n",
      "2/2 [==============================] - 0s 20ms/step - loss: 0.1165\n",
      "Epoch 43/50\n",
      "2/2 [==============================] - 0s 21ms/step - loss: 0.1142\n",
      "Epoch 44/50\n",
      "2/2 [==============================] - 0s 19ms/step - loss: 0.1127\n",
      "Epoch 45/50\n",
      "2/2 [==============================] - 0s 19ms/step - loss: 0.1118\n",
      "Epoch 46/50\n",
      "2/2 [==============================] - 0s 20ms/step - loss: 0.1110\n",
      "Epoch 47/50\n",
      "2/2 [==============================] - 0s 19ms/step - loss: 0.1101\n",
      "Epoch 48/50\n",
      "2/2 [==============================] - 0s 22ms/step - loss: 0.1093\n",
      "Epoch 49/50\n",
      "2/2 [==============================] - 0s 20ms/step - loss: 0.1082\n",
      "Epoch 50/50\n",
      "2/2 [==============================] - 0s 21ms/step - loss: 0.1048\n"
     ]
    }
   ],
   "source": [
    "np.random.seed(42)\n",
    "tf.random.set_seed(42)\n",
    "\n",
    "gru_model.compile(loss=\"mse\", optimizer='Adam')\n",
    "# Train the model\n",
    "history = gru_model.fit(X_train, y_train, epochs=50)"
   ]
  },
  {
   "cell_type": "code",
   "execution_count": 33,
   "id": "a121936c",
   "metadata": {},
   "outputs": [
    {
     "name": "stdout",
     "output_type": "stream",
     "text": [
      "1/1 [==============================] - 1s 828ms/step\n"
     ]
    }
   ],
   "source": [
    "#Predict:\n",
    "y_pred = gru_model.predict(X_test)"
   ]
  },
  {
   "cell_type": "code",
   "execution_count": 34,
   "id": "102a88f0",
   "metadata": {},
   "outputs": [],
   "source": [
    "#Remember, these are standardized values. \n",
    "\n",
    "comparison = pd.DataFrame()\n",
    "\n",
    "comparison['actual'] = scaler.inverse_transform(y_test.reshape(-1, 1)).flatten()\n",
    "comparison['predicted'] = scaler.inverse_transform(y_pred).flatten()"
   ]
  },
  {
   "cell_type": "code",
   "execution_count": 35,
   "id": "68ec4415",
   "metadata": {
    "scrolled": true
   },
   "outputs": [
    {
     "data": {
      "text/html": [
       "<div>\n",
       "<style scoped>\n",
       "    .dataframe tbody tr th:only-of-type {\n",
       "        vertical-align: middle;\n",
       "    }\n",
       "\n",
       "    .dataframe tbody tr th {\n",
       "        vertical-align: top;\n",
       "    }\n",
       "\n",
       "    .dataframe thead th {\n",
       "        text-align: right;\n",
       "    }\n",
       "</style>\n",
       "<table border=\"1\" class=\"dataframe\">\n",
       "  <thead>\n",
       "    <tr style=\"text-align: right;\">\n",
       "      <th></th>\n",
       "      <th>actual</th>\n",
       "      <th>predicted</th>\n",
       "    </tr>\n",
       "  </thead>\n",
       "  <tbody>\n",
       "    <tr>\n",
       "      <th>0</th>\n",
       "      <td>8.33</td>\n",
       "      <td>8.418999</td>\n",
       "    </tr>\n",
       "    <tr>\n",
       "      <th>1</th>\n",
       "      <td>8.86</td>\n",
       "      <td>8.398647</td>\n",
       "    </tr>\n",
       "    <tr>\n",
       "      <th>2</th>\n",
       "      <td>9.35</td>\n",
       "      <td>8.553055</td>\n",
       "    </tr>\n",
       "    <tr>\n",
       "      <th>3</th>\n",
       "      <td>9.49</td>\n",
       "      <td>8.836170</td>\n",
       "    </tr>\n",
       "    <tr>\n",
       "      <th>4</th>\n",
       "      <td>9.37</td>\n",
       "      <td>9.032113</td>\n",
       "    </tr>\n",
       "    <tr>\n",
       "      <th>5</th>\n",
       "      <td>9.42</td>\n",
       "      <td>9.069975</td>\n",
       "    </tr>\n",
       "    <tr>\n",
       "      <th>6</th>\n",
       "      <td>9.21</td>\n",
       "      <td>9.097281</td>\n",
       "    </tr>\n",
       "    <tr>\n",
       "      <th>7</th>\n",
       "      <td>8.71</td>\n",
       "      <td>9.033966</td>\n",
       "    </tr>\n",
       "    <tr>\n",
       "      <th>8</th>\n",
       "      <td>8.88</td>\n",
       "      <td>8.869765</td>\n",
       "    </tr>\n",
       "    <tr>\n",
       "      <th>9</th>\n",
       "      <td>9.56</td>\n",
       "      <td>8.811530</td>\n",
       "    </tr>\n",
       "    <tr>\n",
       "      <th>10</th>\n",
       "      <td>9.62</td>\n",
       "      <td>9.020829</td>\n",
       "    </tr>\n",
       "    <tr>\n",
       "      <th>11</th>\n",
       "      <td>9.70</td>\n",
       "      <td>9.168634</td>\n",
       "    </tr>\n",
       "  </tbody>\n",
       "</table>\n",
       "</div>"
      ],
      "text/plain": [
       "    actual  predicted\n",
       "0     8.33   8.418999\n",
       "1     8.86   8.398647\n",
       "2     9.35   8.553055\n",
       "3     9.49   8.836170\n",
       "4     9.37   9.032113\n",
       "5     9.42   9.069975\n",
       "6     9.21   9.097281\n",
       "7     8.71   9.033966\n",
       "8     8.88   8.869765\n",
       "9     9.56   8.811530\n",
       "10    9.62   9.020829\n",
       "11    9.70   9.168634"
      ]
     },
     "execution_count": 35,
     "metadata": {},
     "output_type": "execute_result"
    }
   ],
   "source": [
    "comparison"
   ]
  },
  {
   "cell_type": "code",
   "execution_count": 36,
   "id": "107401e7",
   "metadata": {},
   "outputs": [
    {
     "data": {
      "text/plain": [
       "0.2366161600278669"
      ]
     },
     "execution_count": 36,
     "metadata": {},
     "output_type": "execute_result"
    }
   ],
   "source": [
    "mean_squared_error(comparison['actual'], comparison['predicted'])"
   ]
  },
  {
   "cell_type": "code",
   "execution_count": 37,
   "id": "adb7be98",
   "metadata": {},
   "outputs": [
    {
     "data": {
      "image/png": "[encoded data removed]",
      "text/plain": [
       "<Figure size 640x480 with 1 Axes>"
      ]
     },
     "metadata": {},
     "output_type": "display_data"
    }
   ],
   "source": [
    "plt.plot(comparison['actual'], label = 'actual')\n",
    "plt.plot(comparison['predicted'], label = 'predicted')\n",
    "\n",
    "plt.legend()\n",
    "\n",
    "plt.show()"
   ]
  },
  {
   "cell_type": "markdown",
   "id": "8d975da4",
   "metadata": {},
   "source": [
    "## Conv1D"
   ]
  },
  {
   "cell_type": "code",
   "execution_count": 38,
   "id": "3b9c43c8",
   "metadata": {},
   "outputs": [],
   "source": [
    "conv1d_model = keras.models.Sequential([\n",
    "    keras.layers.Conv1D(filters=20, kernel_size=3, strides=1, padding=\"valid\", input_shape=[9, 1]),\n",
    "    keras.layers.GRU(32, activation='relu', return_sequences=True),\n",
    "    keras.layers.GRU(32, activation='relu', return_sequences=False),\n",
    "    keras.layers.Dense(1, activation=None)\n",
    "])"
   ]
  },
  {
   "cell_type": "code",
   "execution_count": 39,
   "id": "6bbbca1f",
   "metadata": {
    "scrolled": true
   },
   "outputs": [
    {
     "name": "stdout",
     "output_type": "stream",
     "text": [
      "Epoch 1/50\n",
      "2/2 [==============================] - 8s 19ms/step - loss: 0.8648\n",
      "Epoch 2/50\n",
      "2/2 [==============================] - 0s 52ms/step - loss: 0.8004\n",
      "Epoch 3/50\n",
      "2/2 [==============================] - 0s 52ms/step - loss: 0.7517\n",
      "Epoch 4/50\n",
      "2/2 [==============================] - 0s 17ms/step - loss: 0.7115\n",
      "Epoch 5/50\n",
      "2/2 [==============================] - 0s 52ms/step - loss: 0.6785\n",
      "Epoch 6/50\n",
      "2/2 [==============================] - 0s 39ms/step - loss: 0.6466\n",
      "Epoch 7/50\n",
      "2/2 [==============================] - 0s 61ms/step - loss: 0.6151\n",
      "Epoch 8/50\n",
      "2/2 [==============================] - 0s 57ms/step - loss: 0.5782\n",
      "Epoch 9/50\n",
      "2/2 [==============================] - 0s 50ms/step - loss: 0.5456\n",
      "Epoch 10/50\n",
      "2/2 [==============================] - 0s 49ms/step - loss: 0.5107\n",
      "Epoch 11/50\n",
      "2/2 [==============================] - 0s 56ms/step - loss: 0.4737\n",
      "Epoch 12/50\n",
      "2/2 [==============================] - 0s 29ms/step - loss: 0.4346\n",
      "Epoch 13/50\n",
      "2/2 [==============================] - 0s 25ms/step - loss: 0.3905\n",
      "Epoch 14/50\n",
      "2/2 [==============================] - 0s 53ms/step - loss: 0.3488\n",
      "Epoch 15/50\n",
      "2/2 [==============================] - 0s 59ms/step - loss: 0.3102\n",
      "Epoch 16/50\n",
      "2/2 [==============================] - 0s 14ms/step - loss: 0.2722\n",
      "Epoch 17/50\n",
      "2/2 [==============================] - 0s 63ms/step - loss: 0.2389\n",
      "Epoch 18/50\n",
      "2/2 [==============================] - 0s 53ms/step - loss: 0.2179\n",
      "Epoch 19/50\n",
      "2/2 [==============================] - 0s 20ms/step - loss: 0.2031\n",
      "Epoch 20/50\n",
      "2/2 [==============================] - 0s 16ms/step - loss: 0.1965\n",
      "Epoch 21/50\n",
      "2/2 [==============================] - 0s 49ms/step - loss: 0.1992\n",
      "Epoch 22/50\n",
      "2/2 [==============================] - 0s 56ms/step - loss: 0.1965\n",
      "Epoch 23/50\n",
      "2/2 [==============================] - 0s 20ms/step - loss: 0.1897\n",
      "Epoch 24/50\n",
      "2/2 [==============================] - 0s 56ms/step - loss: 0.1846\n",
      "Epoch 25/50\n",
      "2/2 [==============================] - 0s 20ms/step - loss: 0.1810\n",
      "Epoch 26/50\n",
      "2/2 [==============================] - 0s 23ms/step - loss: 0.1796\n",
      "Epoch 27/50\n",
      "2/2 [==============================] - 0s 15ms/step - loss: 0.1773\n",
      "Epoch 28/50\n",
      "2/2 [==============================] - 0s 18ms/step - loss: 0.1740\n",
      "Epoch 29/50\n",
      "2/2 [==============================] - 0s 49ms/step - loss: 0.1685\n",
      "Epoch 30/50\n",
      "2/2 [==============================] - 0s 60ms/step - loss: 0.1643\n",
      "Epoch 31/50\n",
      "2/2 [==============================] - 0s 56ms/step - loss: 0.1596\n",
      "Epoch 32/50\n",
      "2/2 [==============================] - 0s 16ms/step - loss: 0.1553\n",
      "Epoch 33/50\n",
      "2/2 [==============================] - 0s 63ms/step - loss: 0.1586\n",
      "Epoch 34/50\n",
      "2/2 [==============================] - 0s 63ms/step - loss: 0.1580\n",
      "Epoch 35/50\n",
      "2/2 [==============================] - 0s 21ms/step - loss: 0.1560\n",
      "Epoch 36/50\n",
      "2/2 [==============================] - 0s 25ms/step - loss: 0.1511\n",
      "Epoch 37/50\n",
      "2/2 [==============================] - 0s 17ms/step - loss: 0.1468\n",
      "Epoch 38/50\n",
      "2/2 [==============================] - 0s 19ms/step - loss: 0.1425\n",
      "Epoch 39/50\n",
      "2/2 [==============================] - 0s 20ms/step - loss: 0.1403\n",
      "Epoch 40/50\n",
      "2/2 [==============================] - 0s 18ms/step - loss: 0.1374\n",
      "Epoch 41/50\n",
      "2/2 [==============================] - 0s 28ms/step - loss: 0.1340\n",
      "Epoch 42/50\n",
      "2/2 [==============================] - 0s 14ms/step - loss: 0.1322\n",
      "Epoch 43/50\n",
      "2/2 [==============================] - 0s 11ms/step - loss: 0.1295\n",
      "Epoch 44/50\n",
      "2/2 [==============================] - 0s 22ms/step - loss: 0.1262\n",
      "Epoch 45/50\n",
      "2/2 [==============================] - 0s 17ms/step - loss: 0.1235\n",
      "Epoch 46/50\n",
      "2/2 [==============================] - 0s 36ms/step - loss: 0.1200\n",
      "Epoch 47/50\n",
      "2/2 [==============================] - 0s 31ms/step - loss: 0.1159\n",
      "Epoch 48/50\n",
      "2/2 [==============================] - 0s 15ms/step - loss: 0.1127\n",
      "Epoch 49/50\n",
      "2/2 [==============================] - 0s 15ms/step - loss: 0.1103\n",
      "Epoch 50/50\n",
      "2/2 [==============================] - 0s 15ms/step - loss: 0.1048\n"
     ]
    }
   ],
   "source": [
    "np.random.seed(42)\n",
    "tf.random.set_seed(42)\n",
    "\n",
    "conv1d_model.compile(loss=\"mse\", optimizer='Adam')\n",
    "\n",
    "history = conv1d_model.fit(X_train, y_train, epochs=50)"
   ]
  },
  {
   "cell_type": "code",
   "execution_count": 40,
   "id": "26c91ae2",
   "metadata": {},
   "outputs": [
    {
     "name": "stdout",
     "output_type": "stream",
     "text": [
      "1/1 [==============================] - 1s 947ms/step\n"
     ]
    }
   ],
   "source": [
    "#Predict:\n",
    "y_pred = conv1d_model.predict(X_test)"
   ]
  },
  {
   "cell_type": "code",
   "execution_count": 41,
   "id": "f76a99bc",
   "metadata": {},
   "outputs": [],
   "source": [
    "#Remember, these are standardized values. \n",
    "\n",
    "comparison = pd.DataFrame()\n",
    "\n",
    "comparison['actual'] = scaler.inverse_transform(y_test.reshape(-1, 1)).flatten()\n",
    "comparison['predicted'] = scaler.inverse_transform(y_pred).flatten()"
   ]
  },
  {
   "cell_type": "code",
   "execution_count": 42,
   "id": "b7603231",
   "metadata": {},
   "outputs": [
    {
     "data": {
      "text/html": [
       "<div>\n",
       "<style scoped>\n",
       "    .dataframe tbody tr th:only-of-type {\n",
       "        vertical-align: middle;\n",
       "    }\n",
       "\n",
       "    .dataframe tbody tr th {\n",
       "        vertical-align: top;\n",
       "    }\n",
       "\n",
       "    .dataframe thead th {\n",
       "        text-align: right;\n",
       "    }\n",
       "</style>\n",
       "<table border=\"1\" class=\"dataframe\">\n",
       "  <thead>\n",
       "    <tr style=\"text-align: right;\">\n",
       "      <th></th>\n",
       "      <th>actual</th>\n",
       "      <th>predicted</th>\n",
       "    </tr>\n",
       "  </thead>\n",
       "  <tbody>\n",
       "    <tr>\n",
       "      <th>0</th>\n",
       "      <td>8.33</td>\n",
       "      <td>8.432426</td>\n",
       "    </tr>\n",
       "    <tr>\n",
       "      <th>1</th>\n",
       "      <td>8.86</td>\n",
       "      <td>8.393379</td>\n",
       "    </tr>\n",
       "    <tr>\n",
       "      <th>2</th>\n",
       "      <td>9.35</td>\n",
       "      <td>8.499490</td>\n",
       "    </tr>\n",
       "    <tr>\n",
       "      <th>3</th>\n",
       "      <td>9.49</td>\n",
       "      <td>8.751368</td>\n",
       "    </tr>\n",
       "    <tr>\n",
       "      <th>4</th>\n",
       "      <td>9.37</td>\n",
       "      <td>8.964028</td>\n",
       "    </tr>\n",
       "    <tr>\n",
       "      <th>5</th>\n",
       "      <td>9.42</td>\n",
       "      <td>9.041574</td>\n",
       "    </tr>\n",
       "    <tr>\n",
       "      <th>6</th>\n",
       "      <td>9.21</td>\n",
       "      <td>9.070898</td>\n",
       "    </tr>\n",
       "    <tr>\n",
       "      <th>7</th>\n",
       "      <td>8.71</td>\n",
       "      <td>9.054715</td>\n",
       "    </tr>\n",
       "    <tr>\n",
       "      <th>8</th>\n",
       "      <td>8.88</td>\n",
       "      <td>8.944307</td>\n",
       "    </tr>\n",
       "    <tr>\n",
       "      <th>9</th>\n",
       "      <td>9.56</td>\n",
       "      <td>8.852562</td>\n",
       "    </tr>\n",
       "    <tr>\n",
       "      <th>10</th>\n",
       "      <td>9.62</td>\n",
       "      <td>8.970253</td>\n",
       "    </tr>\n",
       "    <tr>\n",
       "      <th>11</th>\n",
       "      <td>9.70</td>\n",
       "      <td>9.137804</td>\n",
       "    </tr>\n",
       "  </tbody>\n",
       "</table>\n",
       "</div>"
      ],
      "text/plain": [
       "    actual  predicted\n",
       "0     8.33   8.432426\n",
       "1     8.86   8.393379\n",
       "2     9.35   8.499490\n",
       "3     9.49   8.751368\n",
       "4     9.37   8.964028\n",
       "5     9.42   9.041574\n",
       "6     9.21   9.070898\n",
       "7     8.71   9.054715\n",
       "8     8.88   8.944307\n",
       "9     9.56   8.852562\n",
       "10    9.62   8.970253\n",
       "11    9.70   9.137804"
      ]
     },
     "execution_count": 42,
     "metadata": {},
     "output_type": "execute_result"
    }
   ],
   "source": [
    "comparison"
   ]
  },
  {
   "cell_type": "code",
   "execution_count": 43,
   "id": "bf2c1d80",
   "metadata": {},
   "outputs": [
    {
     "data": {
      "text/plain": [
       "0.2655173235229659"
      ]
     },
     "execution_count": 43,
     "metadata": {},
     "output_type": "execute_result"
    }
   ],
   "source": [
    "mean_squared_error(comparison['actual'], comparison['predicted'])"
   ]
  },
  {
   "cell_type": "code",
   "execution_count": 44,
   "id": "bea4f047",
   "metadata": {},
   "outputs": [
    {
     "data": {
      "image/png": "[encoded data removed]",
      "text/plain": [
       "<Figure size 640x480 with 1 Axes>"
      ]
     },
     "metadata": {},
     "output_type": "display_data"
    }
   ],
   "source": [
    "plt.plot(comparison['actual'], label = 'actual')\n",
    "plt.plot(comparison['predicted'], label = 'predicted')\n",
    "\n",
    "plt.legend()\n",
    "\n",
    "plt.show()"
   ]
  },
  {
   "cell_type": "markdown",
   "id": "11d7ddc5",
   "metadata": {},
   "source": [
    "### The aim was to predict the 10th day closing price of the GAP Inc. stock based on the past 9 days closing price. I applied Simple RNN, LSTM, GRU, Conv1D models. \n",
    "### The MSE or  Mean Squared Error value of each model is as shown below: \n",
    "### Simple RNN : 0.1815 \n",
    "### LSTM            : 0.3040\n",
    "### GRU              : 0.2366\n",
    "### Conv1D        : 0.2655\n"
   ]
  },
  {
   "cell_type": "markdown",
   "id": "f6540970",
   "metadata": {},
   "source": [
    "### As we can see from the above results, **Simple RNN** has the lowest MSE value and thus **Simple RNN** performed the best in predicting the closing stock price. GRU has the second best  MSE value followed by Conv1D."
   ]
  }
 ],
 "metadata": {
  "kernelspec": {
   "display_name": "Python 3 (ipykernel)",
   "language": "python",
   "name": "python3"
  },
  "language_info": {
   "codemirror_mode": {
    "name": "ipython",
    "version": 3
   },
   "file_extension": ".py",
   "mimetype": "text/x-python",
   "name": "python",
   "nbconvert_exporter": "python",
   "pygments_lexer": "ipython3",
   "version": "3.9.16"
  }
 },
 "nbformat": 4,
 "nbformat_minor": 5
}
